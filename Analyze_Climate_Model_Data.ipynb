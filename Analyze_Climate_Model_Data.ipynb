{
 "cells": [
  {
   "cell_type": "markdown",
   "id": "a31b05ef",
   "metadata": {},
   "source": [
    "# Tutorial on the use of Climate Model data in Python\n",
    "\n",
    "In this tutorial you will learn how to open climate data, modify it and perform calculations to understand what the future might look like. But first, we need to get you acquainted with how you can use this notebook."
   ]
  },
  {
   "cell_type": "markdown",
   "id": "2c64ba5c",
   "metadata": {},
   "source": [
    "### How to use this notebook\n",
    "\n",
    "Jupyter Notebooks allow you to execute code in chunks (these grey boxes here). You can modify and re-execute code. To run the example below, you can \n",
    "- click on to the cell below and then  on \">Run\" at the top of this window\n",
    "- click on the cell below and use the shortcut (command + enter on a Mac, unsure about other systems)"
   ]
  },
  {
   "cell_type": "code",
   "execution_count": null,
   "id": "5f5ae692",
   "metadata": {},
   "outputs": [],
   "source": [
    "3+5"
   ]
  },
  {
   "cell_type": "markdown",
   "id": "df2eb211",
   "metadata": {},
   "source": [
    "Now, you can change the content of the cell above (maybe try 3+5-3) and execute it again. "
   ]
  },
  {
   "cell_type": "markdown",
   "id": "91140012",
   "metadata": {},
   "source": [
    "### Importing packages\n",
    "\n",
    "Just execute the following cell as it will import all the packages that we need."
   ]
  },
  {
   "cell_type": "code",
   "execution_count": null,
   "id": "e1eacc9a",
   "metadata": {},
   "outputs": [],
   "source": [
    "import numpy as np\n",
    "import matplotlib.pyplot as plt\n",
    "import pandas as pd\n",
    "import xarray as xr"
   ]
  },
  {
   "cell_type": "markdown",
   "id": "99174135",
   "metadata": {},
   "source": [
    "### Opening the data"
   ]
  },
  {
   "cell_type": "code",
   "execution_count": null,
   "id": "862ccbdf",
   "metadata": {},
   "outputs": [],
   "source": [
    "data_path = \"./data/\""
   ]
  },
  {
   "cell_type": "code",
   "execution_count": null,
   "id": "dafd737e",
   "metadata": {},
   "outputs": [],
   "source": [
    "ds = xr.open_dataset(data_path + \"pr_Amon_CESM2_ssp585_r4i1p1f1_gn_20150115-20991215.nc\")  # note that other variables are available\n",
    "ds"
   ]
  },
  {
   "cell_type": "code",
   "execution_count": null,
   "id": "ce6559fd",
   "metadata": {},
   "outputs": [],
   "source": [
    "ds[\"pr\"]"
   ]
  },
  {
   "cell_type": "markdown",
   "id": "e35bb621",
   "metadata": {},
   "source": [
    "### Example plots"
   ]
  },
  {
   "cell_type": "markdown",
   "id": "d39e3caa",
   "metadata": {},
   "source": [
    "#### Maps"
   ]
  },
  {
   "cell_type": "code",
   "execution_count": null,
   "id": "188ea55b",
   "metadata": {},
   "outputs": [],
   "source": [
    "# plot first timestep of the data\n",
    "ds.isel(time=0)[\"pr\"].plot()"
   ]
  },
  {
   "cell_type": "code",
   "execution_count": null,
   "id": "9d616b45",
   "metadata": {},
   "outputs": [],
   "source": [
    "# plot mean\n",
    "ds.mean(\"time\")[\"pr\"].plot()"
   ]
  },
  {
   "cell_type": "code",
   "execution_count": null,
   "id": "39c739c6",
   "metadata": {},
   "outputs": [],
   "source": [
    "# plot mean\n",
    "ds.max(\"time\")[\"pr\"].plot()"
   ]
  },
  {
   "cell_type": "markdown",
   "id": "54cc68c5",
   "metadata": {},
   "source": [
    "#### Timeseries"
   ]
  },
  {
   "cell_type": "code",
   "execution_count": null,
   "id": "90f1171b",
   "metadata": {},
   "outputs": [],
   "source": [
    "ds.sel(lat=62, lon=6, method=\"nearest\")[\"pr\"].plot()"
   ]
  },
  {
   "cell_type": "code",
   "execution_count": null,
   "id": "fda6723d",
   "metadata": {},
   "outputs": [],
   "source": [
    "ds.sel(lat=62, lon=6, method=\"nearest\")[\"pr\"].resample({\"time\": \"1YE\"}).mean().plot()"
   ]
  },
  {
   "cell_type": "code",
   "execution_count": null,
   "id": "0096ecca",
   "metadata": {},
   "outputs": [],
   "source": [
    "historical_precip = ds.sel(lat=62, lon=6, method=\"nearest\")[\"pr\"].sel(time=slice(\"2015\", \"2025\")).mean()\n",
    "future_precip = ds.sel(lat=62, lon=6, method=\"nearest\")[\"pr\"].sel(time=slice(\"2090\", \"2100\")).mean()\n",
    "print(\"Historical precip was \" + str(historical_precip.values) + \"\\n Future precip will be \" + str(future_precip.values) +\"\\n Change in precip is \" + str((future_precip - historical_precip).values))\n"
   ]
  },
  {
   "cell_type": "markdown",
   "id": "0251cd9d",
   "metadata": {},
   "source": [
    "### Space for your own calculations"
   ]
  },
  {
   "cell_type": "code",
   "execution_count": null,
   "id": "8462c718",
   "metadata": {},
   "outputs": [],
   "source": []
  }
 ],
 "metadata": {
  "kernelspec": {
   "display_name": "teaching_2025",
   "language": "python",
   "name": "teaching_2025"
  },
  "language_info": {
   "codemirror_mode": {
    "name": "ipython",
    "version": 3
   },
   "file_extension": ".py",
   "mimetype": "text/x-python",
   "name": "python",
   "nbconvert_exporter": "python",
   "pygments_lexer": "ipython3",
   "version": "3.10.5"
  }
 },
 "nbformat": 4,
 "nbformat_minor": 5
}
